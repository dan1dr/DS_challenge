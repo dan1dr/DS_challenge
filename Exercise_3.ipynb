{
 "cells": [
  {
   "cell_type": "markdown",
   "metadata": {},
   "source": [
    "# Exercise 3"
   ]
  },
  {
   "cell_type": "markdown",
   "metadata": {},
   "source": [
    "__Plot the monthly number of searches for flights arriving at Málaga, Madrid or Barcelona__\n",
    "\n",
    "\n",
    "*    For the arriving airport, you can use the Destination column in the searches file.\n",
    "\n",
    "*    Plot a curve for Málaga, another one for Madrid, and another one for Barcelona, in the same figure.\n",
    "\n",
    "*   Bonus point: Solving this problem using pandas (instead of any other approach).\n"
   ]
  },
  {
   "cell_type": "code",
   "execution_count": 15,
   "metadata": {},
   "outputs": [],
   "source": [
    "import pandas as pd\n",
    "import bz2\n",
    "from tqdm import tqdm\n",
    "import matplotlib.pyplot as plt\n",
    "import seaborn as sns"
   ]
  },
  {
   "cell_type": "markdown",
   "metadata": {},
   "source": [
    "Remember which were the paths"
   ]
  },
  {
   "cell_type": "code",
   "execution_count": 2,
   "metadata": {},
   "outputs": [],
   "source": [
    "path_searches_bz2 = '/home/dsc/Data/challenge/searches.csv.bz2'\n",
    "path_bookings_bz2 = '//home/dsc/Data/challenge/bookings.csv.bz2'\n",
    "\n",
    "path_searches_sample_bz2 = '/home/dsc/DS_challenge/DS_challenge/searches_sample.csv.bz2'\n",
    "path_bookings_sample_bz2 = '/home/dsc/DS_challenge/DS_challenge/bookings_sample.csv.bz2'\n",
    "\n",
    "path_bookings_clear = '/home/dsc/DS_challenge/DS_challenge/bookings_clear.csv.bz2'\n"
   ]
  },
  {
   "cell_type": "code",
   "execution_count": 79,
   "metadata": {},
   "outputs": [],
   "source": [
    "searches_sample = pd.read_csv(path_searches_sample_bz2,\n",
    "                       compression = 'bz2', sep = '^')"
   ]
  },
  {
   "cell_type": "code",
   "execution_count": 34,
   "metadata": {},
   "outputs": [
    {
     "data": {
      "text/plain": [
       "(9999, 45)"
      ]
     },
     "execution_count": 34,
     "metadata": {},
     "output_type": "execute_result"
    }
   ],
   "source": [
    "searches_sample.shape"
   ]
  },
  {
   "cell_type": "code",
   "execution_count": 35,
   "metadata": {},
   "outputs": [
    {
     "data": {
      "text/plain": [
       "['Date',\n",
       " 'Time',\n",
       " 'TxnCode',\n",
       " 'OfficeID',\n",
       " 'Country',\n",
       " 'Origin',\n",
       " 'Destination',\n",
       " 'RoundTrip',\n",
       " 'NbSegments',\n",
       " 'Seg1Departure',\n",
       " 'Seg1Arrival',\n",
       " 'Seg1Date',\n",
       " 'Seg1Carrier',\n",
       " 'Seg1BookingCode',\n",
       " 'Seg2Departure',\n",
       " 'Seg2Arrival',\n",
       " 'Seg2Date',\n",
       " 'Seg2Carrier',\n",
       " 'Seg2BookingCode',\n",
       " 'Seg3Departure',\n",
       " 'Seg3Arrival',\n",
       " 'Seg3Date',\n",
       " 'Seg3Carrier',\n",
       " 'Seg3BookingCode',\n",
       " 'Seg4Departure',\n",
       " 'Seg4Arrival',\n",
       " 'Seg4Date',\n",
       " 'Seg4Carrier',\n",
       " 'Seg4BookingCode',\n",
       " 'Seg5Departure',\n",
       " 'Seg5Arrival',\n",
       " 'Seg5Date',\n",
       " 'Seg5Carrier',\n",
       " 'Seg5BookingCode',\n",
       " 'Seg6Departure',\n",
       " 'Seg6Arrival',\n",
       " 'Seg6Date',\n",
       " 'Seg6Carrier',\n",
       " 'Seg6BookingCode',\n",
       " 'From',\n",
       " 'IsPublishedForNeg',\n",
       " 'IsFromInternet',\n",
       " 'IsFromVista',\n",
       " 'TerminalID',\n",
       " 'InternetOffice']"
      ]
     },
     "execution_count": 35,
     "metadata": {},
     "output_type": "execute_result"
    }
   ],
   "source": [
    "searches_sample.columns.tolist()"
   ]
  },
  {
   "cell_type": "code",
   "execution_count": 36,
   "metadata": {},
   "outputs": [
    {
     "name": "stdout",
     "output_type": "stream",
     "text": [
      "<class 'pandas.core.frame.DataFrame'>\n",
      "RangeIndex: 9999 entries, 0 to 9998\n",
      "Data columns (total 45 columns):\n",
      " #   Column             Non-Null Count  Dtype \n",
      "---  ------             --------------  ----- \n",
      " 0   Date               9999 non-null   object\n",
      " 1   Time               9999 non-null   object\n",
      " 2   TxnCode            9999 non-null   object\n",
      " 3   OfficeID           9999 non-null   object\n",
      " 4   Country            9999 non-null   object\n",
      " 5   Origin             9999 non-null   object\n",
      " 6   Destination        9999 non-null   object\n",
      " 7   RoundTrip          9999 non-null   int64 \n",
      " 8   NbSegments         9999 non-null   int64 \n",
      " 9   Seg1Departure      9999 non-null   object\n",
      " 10  Seg1Arrival        9999 non-null   object\n",
      " 11  Seg1Date           9972 non-null   object\n",
      " 12  Seg1Carrier        4047 non-null   object\n",
      " 13  Seg1BookingCode    1143 non-null   object\n",
      " 14  Seg2Departure      7195 non-null   object\n",
      " 15  Seg2Arrival        7195 non-null   object\n",
      " 16  Seg2Date           7160 non-null   object\n",
      " 17  Seg2Carrier        2870 non-null   object\n",
      " 18  Seg2BookingCode    998 non-null    object\n",
      " 19  Seg3Departure      534 non-null    object\n",
      " 20  Seg3Arrival        534 non-null    object\n",
      " 21  Seg3Date           531 non-null    object\n",
      " 22  Seg3Carrier        517 non-null    object\n",
      " 23  Seg3BookingCode    508 non-null    object\n",
      " 24  Seg4Departure      440 non-null    object\n",
      " 25  Seg4Arrival        440 non-null    object\n",
      " 26  Seg4Date           439 non-null    object\n",
      " 27  Seg4Carrier        438 non-null    object\n",
      " 28  Seg4BookingCode    436 non-null    object\n",
      " 29  Seg5Departure      103 non-null    object\n",
      " 30  Seg5Arrival        103 non-null    object\n",
      " 31  Seg5Date           103 non-null    object\n",
      " 32  Seg5Carrier        103 non-null    object\n",
      " 33  Seg5BookingCode    103 non-null    object\n",
      " 34  Seg6Departure      58 non-null     object\n",
      " 35  Seg6Arrival        58 non-null     object\n",
      " 36  Seg6Date           58 non-null     object\n",
      " 37  Seg6Carrier        58 non-null     object\n",
      " 38  Seg6BookingCode    58 non-null     object\n",
      " 39  From               9924 non-null   object\n",
      " 40  IsPublishedForNeg  9999 non-null   int64 \n",
      " 41  IsFromInternet     9999 non-null   int64 \n",
      " 42  IsFromVista        9999 non-null   int64 \n",
      " 43  TerminalID         9999 non-null   object\n",
      " 44  InternetOffice     9999 non-null   object\n",
      "dtypes: int64(5), object(40)\n",
      "memory usage: 3.4+ MB\n"
     ]
    }
   ],
   "source": [
    "searches_sample.info()"
   ]
  },
  {
   "cell_type": "code",
   "execution_count": 37,
   "metadata": {},
   "outputs": [
    {
     "data": {
      "text/html": [
       "<div>\n",
       "<style scoped>\n",
       "    .dataframe tbody tr th:only-of-type {\n",
       "        vertical-align: middle;\n",
       "    }\n",
       "\n",
       "    .dataframe tbody tr th {\n",
       "        vertical-align: top;\n",
       "    }\n",
       "\n",
       "    .dataframe thead th {\n",
       "        text-align: right;\n",
       "    }\n",
       "</style>\n",
       "<table border=\"1\" class=\"dataframe\">\n",
       "  <thead>\n",
       "    <tr style=\"text-align: right;\">\n",
       "      <th></th>\n",
       "      <th>Date</th>\n",
       "      <th>Time</th>\n",
       "      <th>TxnCode</th>\n",
       "      <th>OfficeID</th>\n",
       "      <th>Country</th>\n",
       "      <th>Origin</th>\n",
       "      <th>Destination</th>\n",
       "      <th>RoundTrip</th>\n",
       "      <th>NbSegments</th>\n",
       "      <th>Seg1Departure</th>\n",
       "      <th>...</th>\n",
       "      <th>Seg6Arrival</th>\n",
       "      <th>Seg6Date</th>\n",
       "      <th>Seg6Carrier</th>\n",
       "      <th>Seg6BookingCode</th>\n",
       "      <th>From</th>\n",
       "      <th>IsPublishedForNeg</th>\n",
       "      <th>IsFromInternet</th>\n",
       "      <th>IsFromVista</th>\n",
       "      <th>TerminalID</th>\n",
       "      <th>InternetOffice</th>\n",
       "    </tr>\n",
       "  </thead>\n",
       "  <tbody>\n",
       "    <tr>\n",
       "      <th>9873</th>\n",
       "      <td>2013-01-10</td>\n",
       "      <td>06:23:45</td>\n",
       "      <td>MPT</td>\n",
       "      <td>abad92d5dd1f2cea8748bb2013a92ccb</td>\n",
       "      <td>GB</td>\n",
       "      <td>LON</td>\n",
       "      <td>PEK</td>\n",
       "      <td>0</td>\n",
       "      <td>1</td>\n",
       "      <td>LON</td>\n",
       "      <td>...</td>\n",
       "      <td>NaN</td>\n",
       "      <td>NaN</td>\n",
       "      <td>NaN</td>\n",
       "      <td>NaN</td>\n",
       "      <td>1ASIWS</td>\n",
       "      <td>0</td>\n",
       "      <td>0</td>\n",
       "      <td>0</td>\n",
       "      <td>d41d8cd98f00b204e9800998ecf8427e</td>\n",
       "      <td>LON</td>\n",
       "    </tr>\n",
       "    <tr>\n",
       "      <th>1871</th>\n",
       "      <td>2013-01-02</td>\n",
       "      <td>06:23:11</td>\n",
       "      <td>MPT</td>\n",
       "      <td>c8daef4f8bf73a61aa2c928705f7b82d</td>\n",
       "      <td>ES</td>\n",
       "      <td>LAS</td>\n",
       "      <td>HAJ</td>\n",
       "      <td>0</td>\n",
       "      <td>1</td>\n",
       "      <td>LAS</td>\n",
       "      <td>...</td>\n",
       "      <td>NaN</td>\n",
       "      <td>NaN</td>\n",
       "      <td>NaN</td>\n",
       "      <td>NaN</td>\n",
       "      <td>1ASIWS</td>\n",
       "      <td>0</td>\n",
       "      <td>0</td>\n",
       "      <td>0</td>\n",
       "      <td>d41d8cd98f00b204e9800998ecf8427e</td>\n",
       "      <td>MAD</td>\n",
       "    </tr>\n",
       "    <tr>\n",
       "      <th>2852</th>\n",
       "      <td>2013-01-03</td>\n",
       "      <td>03:02:47</td>\n",
       "      <td>FQD</td>\n",
       "      <td>bf3c5bc5bb8f6afa1f89fc8756bb949b</td>\n",
       "      <td>US</td>\n",
       "      <td>TWF</td>\n",
       "      <td>FMN</td>\n",
       "      <td>1</td>\n",
       "      <td>2</td>\n",
       "      <td>TWF</td>\n",
       "      <td>...</td>\n",
       "      <td>NaN</td>\n",
       "      <td>NaN</td>\n",
       "      <td>NaN</td>\n",
       "      <td>NaN</td>\n",
       "      <td>1ASI</td>\n",
       "      <td>0</td>\n",
       "      <td>0</td>\n",
       "      <td>0</td>\n",
       "      <td>d41d8cd98f00b204e9800998ecf8427e</td>\n",
       "      <td>DCA</td>\n",
       "    </tr>\n",
       "    <tr>\n",
       "      <th>6652</th>\n",
       "      <td>2013-01-07</td>\n",
       "      <td>22:42:02</td>\n",
       "      <td>FXR</td>\n",
       "      <td>a3ab256abb78596dad0f7a49091a9829</td>\n",
       "      <td>GB</td>\n",
       "      <td>LHR</td>\n",
       "      <td>EWR</td>\n",
       "      <td>1</td>\n",
       "      <td>2</td>\n",
       "      <td>LHR</td>\n",
       "      <td>...</td>\n",
       "      <td>NaN</td>\n",
       "      <td>NaN</td>\n",
       "      <td>NaN</td>\n",
       "      <td>NaN</td>\n",
       "      <td>1ASI</td>\n",
       "      <td>0</td>\n",
       "      <td>0</td>\n",
       "      <td>0</td>\n",
       "      <td>c0337ed02da9bca1b1e30eb9e044c911</td>\n",
       "      <td>LON</td>\n",
       "    </tr>\n",
       "    <tr>\n",
       "      <th>6523</th>\n",
       "      <td>2013-01-07</td>\n",
       "      <td>23:08:02</td>\n",
       "      <td>MPT</td>\n",
       "      <td>302aef1c1e3bc13d2bd744b41678e500</td>\n",
       "      <td>IT</td>\n",
       "      <td>MIL</td>\n",
       "      <td>LIS</td>\n",
       "      <td>0</td>\n",
       "      <td>1</td>\n",
       "      <td>MIL</td>\n",
       "      <td>...</td>\n",
       "      <td>NaN</td>\n",
       "      <td>NaN</td>\n",
       "      <td>NaN</td>\n",
       "      <td>NaN</td>\n",
       "      <td>1ASIWS</td>\n",
       "      <td>0</td>\n",
       "      <td>0</td>\n",
       "      <td>0</td>\n",
       "      <td>d41d8cd98f00b204e9800998ecf8427e</td>\n",
       "      <td>ROM</td>\n",
       "    </tr>\n",
       "  </tbody>\n",
       "</table>\n",
       "<p>5 rows × 45 columns</p>\n",
       "</div>"
      ],
      "text/plain": [
       "            Date      Time TxnCode                          OfficeID Country  \\\n",
       "9873  2013-01-10  06:23:45     MPT  abad92d5dd1f2cea8748bb2013a92ccb      GB   \n",
       "1871  2013-01-02  06:23:11     MPT  c8daef4f8bf73a61aa2c928705f7b82d      ES   \n",
       "2852  2013-01-03  03:02:47     FQD  bf3c5bc5bb8f6afa1f89fc8756bb949b      US   \n",
       "6652  2013-01-07  22:42:02     FXR  a3ab256abb78596dad0f7a49091a9829      GB   \n",
       "6523  2013-01-07  23:08:02     MPT  302aef1c1e3bc13d2bd744b41678e500      IT   \n",
       "\n",
       "     Origin Destination  RoundTrip  NbSegments Seg1Departure  ... Seg6Arrival  \\\n",
       "9873    LON         PEK          0           1           LON  ...         NaN   \n",
       "1871    LAS         HAJ          0           1           LAS  ...         NaN   \n",
       "2852    TWF         FMN          1           2           TWF  ...         NaN   \n",
       "6652    LHR         EWR          1           2           LHR  ...         NaN   \n",
       "6523    MIL         LIS          0           1           MIL  ...         NaN   \n",
       "\n",
       "     Seg6Date Seg6Carrier Seg6BookingCode    From IsPublishedForNeg  \\\n",
       "9873      NaN         NaN             NaN  1ASIWS                 0   \n",
       "1871      NaN         NaN             NaN  1ASIWS                 0   \n",
       "2852      NaN         NaN             NaN    1ASI                 0   \n",
       "6652      NaN         NaN             NaN    1ASI                 0   \n",
       "6523      NaN         NaN             NaN  1ASIWS                 0   \n",
       "\n",
       "     IsFromInternet IsFromVista                        TerminalID  \\\n",
       "9873              0           0  d41d8cd98f00b204e9800998ecf8427e   \n",
       "1871              0           0  d41d8cd98f00b204e9800998ecf8427e   \n",
       "2852              0           0  d41d8cd98f00b204e9800998ecf8427e   \n",
       "6652              0           0  c0337ed02da9bca1b1e30eb9e044c911   \n",
       "6523              0           0  d41d8cd98f00b204e9800998ecf8427e   \n",
       "\n",
       "     InternetOffice  \n",
       "9873            LON  \n",
       "1871            MAD  \n",
       "2852            DCA  \n",
       "6652            LON  \n",
       "6523            ROM  \n",
       "\n",
       "[5 rows x 45 columns]"
      ]
     },
     "execution_count": 37,
     "metadata": {},
     "output_type": "execute_result"
    }
   ],
   "source": [
    "searches_sample.sample(5)"
   ]
  },
  {
   "cell_type": "markdown",
   "metadata": {},
   "source": [
    "Note that date format is given by yyyy-mm-dd"
   ]
  },
  {
   "cell_type": "code",
   "execution_count": 40,
   "metadata": {},
   "outputs": [
    {
     "data": {
      "text/plain": [
       "Index(['Date', 'Destination'], dtype='object')"
      ]
     },
     "execution_count": 40,
     "metadata": {},
     "output_type": "execute_result"
    }
   ],
   "source": [
    "df.columns"
   ]
  },
  {
   "cell_type": "markdown",
   "metadata": {},
   "source": [
    "Let's now think about NaNs and Duplicates:"
   ]
  },
  {
   "cell_type": "markdown",
   "metadata": {},
   "source": [
    "__Removing NaNs__"
   ]
  },
  {
   "cell_type": "markdown",
   "metadata": {},
   "source": [
    "From https://towardsdatascience.com/cleaning-missing-values-in-a-pandas-dataframe-a88b3d1a66bf we can import a quick function that outputs a dataframe that tells you how many missing values and their percentages in each column:"
   ]
  },
  {
   "cell_type": "code",
   "execution_count": 26,
   "metadata": {},
   "outputs": [],
   "source": [
    "def assess_NA(data):\n",
    "    \"\"\"\n",
    "    Returns a pandas dataframe denoting the total number of NA values and the percentage of NA values in each column.\n",
    "    The column names are noted on the index.\n",
    "    \n",
    "    Parameters\n",
    "    ----------\n",
    "    data: dataframe\n",
    "    \"\"\"\n",
    "    # pandas series denoting features and the sum of their null values\n",
    "    null_sum = data.isnull().sum()# instantiate columns for missing data\n",
    "    total = null_sum.sort_values(ascending=False)\n",
    "    percent = ( ((null_sum / len(data.index))*100).round(2) ).sort_values(ascending=False)\n",
    "    \n",
    "    # concatenate along the columns to create the complete dataframe\n",
    "    df_NA = pd.concat([total, percent], axis=1, sort=True, keys=['Number of NA', 'Percent NA'])\n",
    "    \n",
    "    # drop rows that don't have any missing data; omit if you want to keep all rows\n",
    "    df_NA = df_NA[ (df_NA.T != 0).any() ]\n",
    "    \n",
    "    return df_NA"
   ]
  },
  {
   "cell_type": "code",
   "execution_count": 41,
   "metadata": {},
   "outputs": [
    {
     "data": {
      "text/html": [
       "<div>\n",
       "<style scoped>\n",
       "    .dataframe tbody tr th:only-of-type {\n",
       "        vertical-align: middle;\n",
       "    }\n",
       "\n",
       "    .dataframe tbody tr th {\n",
       "        vertical-align: top;\n",
       "    }\n",
       "\n",
       "    .dataframe thead th {\n",
       "        text-align: right;\n",
       "    }\n",
       "</style>\n",
       "<table border=\"1\" class=\"dataframe\">\n",
       "  <thead>\n",
       "    <tr style=\"text-align: right;\">\n",
       "      <th></th>\n",
       "      <th>Number of NA</th>\n",
       "      <th>Percent NA</th>\n",
       "    </tr>\n",
       "  </thead>\n",
       "  <tbody>\n",
       "    <tr>\n",
       "      <th>From</th>\n",
       "      <td>75</td>\n",
       "      <td>0.75</td>\n",
       "    </tr>\n",
       "    <tr>\n",
       "      <th>Seg1BookingCode</th>\n",
       "      <td>8856</td>\n",
       "      <td>88.57</td>\n",
       "    </tr>\n",
       "    <tr>\n",
       "      <th>Seg1Carrier</th>\n",
       "      <td>5952</td>\n",
       "      <td>59.53</td>\n",
       "    </tr>\n",
       "    <tr>\n",
       "      <th>Seg1Date</th>\n",
       "      <td>27</td>\n",
       "      <td>0.27</td>\n",
       "    </tr>\n",
       "    <tr>\n",
       "      <th>Seg2Arrival</th>\n",
       "      <td>2804</td>\n",
       "      <td>28.04</td>\n",
       "    </tr>\n",
       "    <tr>\n",
       "      <th>Seg2BookingCode</th>\n",
       "      <td>9001</td>\n",
       "      <td>90.02</td>\n",
       "    </tr>\n",
       "    <tr>\n",
       "      <th>Seg2Carrier</th>\n",
       "      <td>7129</td>\n",
       "      <td>71.30</td>\n",
       "    </tr>\n",
       "    <tr>\n",
       "      <th>Seg2Date</th>\n",
       "      <td>2839</td>\n",
       "      <td>28.39</td>\n",
       "    </tr>\n",
       "    <tr>\n",
       "      <th>Seg2Departure</th>\n",
       "      <td>2804</td>\n",
       "      <td>28.04</td>\n",
       "    </tr>\n",
       "    <tr>\n",
       "      <th>Seg3Arrival</th>\n",
       "      <td>9465</td>\n",
       "      <td>94.66</td>\n",
       "    </tr>\n",
       "    <tr>\n",
       "      <th>Seg3BookingCode</th>\n",
       "      <td>9491</td>\n",
       "      <td>94.92</td>\n",
       "    </tr>\n",
       "    <tr>\n",
       "      <th>Seg3Carrier</th>\n",
       "      <td>9482</td>\n",
       "      <td>94.83</td>\n",
       "    </tr>\n",
       "    <tr>\n",
       "      <th>Seg3Date</th>\n",
       "      <td>9468</td>\n",
       "      <td>94.69</td>\n",
       "    </tr>\n",
       "    <tr>\n",
       "      <th>Seg3Departure</th>\n",
       "      <td>9465</td>\n",
       "      <td>94.66</td>\n",
       "    </tr>\n",
       "    <tr>\n",
       "      <th>Seg4Arrival</th>\n",
       "      <td>9559</td>\n",
       "      <td>95.60</td>\n",
       "    </tr>\n",
       "    <tr>\n",
       "      <th>Seg4BookingCode</th>\n",
       "      <td>9563</td>\n",
       "      <td>95.64</td>\n",
       "    </tr>\n",
       "    <tr>\n",
       "      <th>Seg4Carrier</th>\n",
       "      <td>9561</td>\n",
       "      <td>95.62</td>\n",
       "    </tr>\n",
       "    <tr>\n",
       "      <th>Seg4Date</th>\n",
       "      <td>9560</td>\n",
       "      <td>95.61</td>\n",
       "    </tr>\n",
       "    <tr>\n",
       "      <th>Seg4Departure</th>\n",
       "      <td>9559</td>\n",
       "      <td>95.60</td>\n",
       "    </tr>\n",
       "    <tr>\n",
       "      <th>Seg5Arrival</th>\n",
       "      <td>9896</td>\n",
       "      <td>98.97</td>\n",
       "    </tr>\n",
       "    <tr>\n",
       "      <th>Seg5BookingCode</th>\n",
       "      <td>9896</td>\n",
       "      <td>98.97</td>\n",
       "    </tr>\n",
       "    <tr>\n",
       "      <th>Seg5Carrier</th>\n",
       "      <td>9896</td>\n",
       "      <td>98.97</td>\n",
       "    </tr>\n",
       "    <tr>\n",
       "      <th>Seg5Date</th>\n",
       "      <td>9896</td>\n",
       "      <td>98.97</td>\n",
       "    </tr>\n",
       "    <tr>\n",
       "      <th>Seg5Departure</th>\n",
       "      <td>9896</td>\n",
       "      <td>98.97</td>\n",
       "    </tr>\n",
       "    <tr>\n",
       "      <th>Seg6Arrival</th>\n",
       "      <td>9941</td>\n",
       "      <td>99.42</td>\n",
       "    </tr>\n",
       "    <tr>\n",
       "      <th>Seg6BookingCode</th>\n",
       "      <td>9941</td>\n",
       "      <td>99.42</td>\n",
       "    </tr>\n",
       "    <tr>\n",
       "      <th>Seg6Carrier</th>\n",
       "      <td>9941</td>\n",
       "      <td>99.42</td>\n",
       "    </tr>\n",
       "    <tr>\n",
       "      <th>Seg6Date</th>\n",
       "      <td>9941</td>\n",
       "      <td>99.42</td>\n",
       "    </tr>\n",
       "    <tr>\n",
       "      <th>Seg6Departure</th>\n",
       "      <td>9941</td>\n",
       "      <td>99.42</td>\n",
       "    </tr>\n",
       "  </tbody>\n",
       "</table>\n",
       "</div>"
      ],
      "text/plain": [
       "                 Number of NA  Percent NA\n",
       "From                       75        0.75\n",
       "Seg1BookingCode          8856       88.57\n",
       "Seg1Carrier              5952       59.53\n",
       "Seg1Date                   27        0.27\n",
       "Seg2Arrival              2804       28.04\n",
       "Seg2BookingCode          9001       90.02\n",
       "Seg2Carrier              7129       71.30\n",
       "Seg2Date                 2839       28.39\n",
       "Seg2Departure            2804       28.04\n",
       "Seg3Arrival              9465       94.66\n",
       "Seg3BookingCode          9491       94.92\n",
       "Seg3Carrier              9482       94.83\n",
       "Seg3Date                 9468       94.69\n",
       "Seg3Departure            9465       94.66\n",
       "Seg4Arrival              9559       95.60\n",
       "Seg4BookingCode          9563       95.64\n",
       "Seg4Carrier              9561       95.62\n",
       "Seg4Date                 9560       95.61\n",
       "Seg4Departure            9559       95.60\n",
       "Seg5Arrival              9896       98.97\n",
       "Seg5BookingCode          9896       98.97\n",
       "Seg5Carrier              9896       98.97\n",
       "Seg5Date                 9896       98.97\n",
       "Seg5Departure            9896       98.97\n",
       "Seg6Arrival              9941       99.42\n",
       "Seg6BookingCode          9941       99.42\n",
       "Seg6Carrier              9941       99.42\n",
       "Seg6Date                 9941       99.42\n",
       "Seg6Departure            9941       99.42"
      ]
     },
     "execution_count": 41,
     "metadata": {},
     "output_type": "execute_result"
    }
   ],
   "source": [
    "df_NA = assess_NA(searches_sample)\n",
    "df_NA"
   ]
  },
  {
   "cell_type": "markdown",
   "metadata": {},
   "source": [
    "The data is full of NaNs with many columns with more than 90 %, so in case of working with those columns it might be recommended to drop all these cases."
   ]
  },
  {
   "cell_type": "markdown",
   "metadata": {},
   "source": [
    "\n",
    "Since we only need here the Date & Destination columns (specifically BCN, MAD, AGP), we won't modify nothing for now."
   ]
  },
  {
   "cell_type": "code",
   "execution_count": 78,
   "metadata": {},
   "outputs": [
    {
     "data": {
      "text/html": [
       "<div>\n",
       "<style scoped>\n",
       "    .dataframe tbody tr th:only-of-type {\n",
       "        vertical-align: middle;\n",
       "    }\n",
       "\n",
       "    .dataframe tbody tr th {\n",
       "        vertical-align: top;\n",
       "    }\n",
       "\n",
       "    .dataframe thead th {\n",
       "        text-align: right;\n",
       "    }\n",
       "</style>\n",
       "<table border=\"1\" class=\"dataframe\">\n",
       "  <thead>\n",
       "    <tr style=\"text-align: right;\">\n",
       "      <th></th>\n",
       "      <th>Date</th>\n",
       "      <th>Destination</th>\n",
       "    </tr>\n",
       "  </thead>\n",
       "  <tbody>\n",
       "    <tr>\n",
       "      <th>4</th>\n",
       "      <td>2013-01-01</td>\n",
       "      <td>MAD</td>\n",
       "    </tr>\n",
       "    <tr>\n",
       "      <th>93</th>\n",
       "      <td>2013-01-01</td>\n",
       "      <td>AGP</td>\n",
       "    </tr>\n",
       "    <tr>\n",
       "      <th>113</th>\n",
       "      <td>2013-01-01</td>\n",
       "      <td>BCN</td>\n",
       "    </tr>\n",
       "    <tr>\n",
       "      <th>147</th>\n",
       "      <td>2013-01-01</td>\n",
       "      <td>AGP</td>\n",
       "    </tr>\n",
       "    <tr>\n",
       "      <th>151</th>\n",
       "      <td>2013-01-01</td>\n",
       "      <td>MAD</td>\n",
       "    </tr>\n",
       "    <tr>\n",
       "      <th>165</th>\n",
       "      <td>2013-01-01</td>\n",
       "      <td>BCN</td>\n",
       "    </tr>\n",
       "    <tr>\n",
       "      <th>177</th>\n",
       "      <td>2013-01-01</td>\n",
       "      <td>BCN</td>\n",
       "    </tr>\n",
       "    <tr>\n",
       "      <th>186</th>\n",
       "      <td>2013-01-01</td>\n",
       "      <td>BCN</td>\n",
       "    </tr>\n",
       "    <tr>\n",
       "      <th>188</th>\n",
       "      <td>2013-01-01</td>\n",
       "      <td>BCN</td>\n",
       "    </tr>\n",
       "    <tr>\n",
       "      <th>208</th>\n",
       "      <td>2013-01-01</td>\n",
       "      <td>BCN</td>\n",
       "    </tr>\n",
       "  </tbody>\n",
       "</table>\n",
       "</div>"
      ],
      "text/plain": [
       "           Date Destination\n",
       "4    2013-01-01         MAD\n",
       "93   2013-01-01         AGP\n",
       "113  2013-01-01         BCN\n",
       "147  2013-01-01         AGP\n",
       "151  2013-01-01         MAD\n",
       "165  2013-01-01         BCN\n",
       "177  2013-01-01         BCN\n",
       "186  2013-01-01         BCN\n",
       "188  2013-01-01         BCN\n",
       "208  2013-01-01         BCN"
      ]
     },
     "execution_count": 78,
     "metadata": {},
     "output_type": "execute_result"
    }
   ],
   "source": [
    "#DataFrame with the columns Date and Destination containing MAD, BCN, AGP\n",
    "\n",
    "df = searches_sample[['Date', 'Destination']].copy()\n",
    "df = df[df['Destination'].isin(['MAD', 'BCN', 'AGP'])].copy()\n",
    "\n",
    "df.head(10)\n",
    "\n"
   ]
  },
  {
   "cell_type": "markdown",
   "metadata": {},
   "source": [
    "__Removing duplicates__"
   ]
  },
  {
   "cell_type": "markdown",
   "metadata": {},
   "source": [
    "As the previous exercise, the number of duplicates can be huge in this type of files, so it will be a good practice to assess the value and extension.\n",
    "\n",
    "Working with only the selected columns (optimizes the process), we explore the data and eliminate duplicates using chunks."
   ]
  },
  {
   "cell_type": "code",
   "execution_count": 114,
   "metadata": {},
   "outputs": [
    {
     "name": "stderr",
     "output_type": "stream",
     "text": [
      "\n",
      "\n",
      "\n",
      "\n",
      "0it [00:00, ?it/s]\u001b[A\u001b[A\u001b[A\u001b[A\n",
      "\n",
      "\n",
      "\n",
      "1it [00:00,  1.23it/s]\u001b[A\u001b[A\u001b[A\u001b[A"
     ]
    },
    {
     "name": "stdout",
     "output_type": "stream",
     "text": [
      "100000\n"
     ]
    },
    {
     "name": "stderr",
     "output_type": "stream",
     "text": [
      "\n",
      "\n",
      "\n",
      "\n",
      "2it [00:01,  1.19it/s]\u001b[A\u001b[A\u001b[A\u001b[A"
     ]
    },
    {
     "name": "stdout",
     "output_type": "stream",
     "text": [
      "199998\n"
     ]
    },
    {
     "name": "stderr",
     "output_type": "stream",
     "text": [
      "\n",
      "\n",
      "\n",
      "\n",
      "3it [00:02,  1.14it/s]\u001b[A\u001b[A\u001b[A\u001b[A"
     ]
    },
    {
     "name": "stdout",
     "output_type": "stream",
     "text": [
      "299997\n"
     ]
    },
    {
     "name": "stderr",
     "output_type": "stream",
     "text": [
      "\n",
      "\n",
      "\n",
      "\n",
      "4it [00:03,  1.09it/s]\u001b[A\u001b[A\u001b[A\u001b[A"
     ]
    },
    {
     "name": "stdout",
     "output_type": "stream",
     "text": [
      "358996\n"
     ]
    },
    {
     "name": "stderr",
     "output_type": "stream",
     "text": [
      "\n",
      "\n",
      "\n",
      "\n",
      "5it [00:04,  1.03it/s]\u001b[A\u001b[A\u001b[A\u001b[A"
     ]
    },
    {
     "name": "stdout",
     "output_type": "stream",
     "text": [
      "358996\n"
     ]
    },
    {
     "name": "stderr",
     "output_type": "stream",
     "text": [
      "\n",
      "\n",
      "\n",
      "\n",
      "6it [00:05,  1.00s/it]\u001b[A\u001b[A\u001b[A\u001b[A"
     ]
    },
    {
     "name": "stdout",
     "output_type": "stream",
     "text": [
      "358996\n"
     ]
    },
    {
     "name": "stderr",
     "output_type": "stream",
     "text": [
      "\n",
      "\n",
      "\n",
      "\n",
      "7it [00:06,  1.03it/s]\u001b[A\u001b[A\u001b[A\u001b[A"
     ]
    },
    {
     "name": "stdout",
     "output_type": "stream",
     "text": [
      "358996\n"
     ]
    },
    {
     "name": "stderr",
     "output_type": "stream",
     "text": [
      "\n",
      "\n",
      "\n",
      "\n",
      "8it [00:08,  1.06s/it]\u001b[A\u001b[A\u001b[A\u001b[A"
     ]
    },
    {
     "name": "stdout",
     "output_type": "stream",
     "text": [
      "358996\n"
     ]
    },
    {
     "name": "stderr",
     "output_type": "stream",
     "text": [
      "\n",
      "\n",
      "\n",
      "\n",
      "9it [00:08,  1.02s/it]\u001b[A\u001b[A\u001b[A\u001b[A"
     ]
    },
    {
     "name": "stdout",
     "output_type": "stream",
     "text": [
      "358996\n"
     ]
    },
    {
     "name": "stderr",
     "output_type": "stream",
     "text": [
      "\n",
      "\n",
      "\n",
      "\n",
      "10it [00:10,  1.03s/it]\u001b[A\u001b[A\u001b[A\u001b[A"
     ]
    },
    {
     "name": "stdout",
     "output_type": "stream",
     "text": [
      "358996\n",
      "358996\n"
     ]
    }
   ],
   "source": [
    "reader = pd.read_csv(\n",
    "    path_searches_bz2,\n",
    "    sep='^', low_memory = False,\n",
    "    chunksize=100000, usecols = ['Date', 'Time', 'Origin', 'Destination',])\n",
    "\n",
    "# blank dataframe\n",
    "df_total = pd.DataFrame()\n",
    "\n",
    "\n",
    "# chunks loop\n",
    "for k, chunk in tqdm(enumerate(reader)):\n",
    "    # drop duplicates\n",
    "    columns = ['Date', 'Time', 'Origin', 'Destination']\n",
    "    dd = chunk.drop_duplicates(subset=columns)\n",
    "    # append each grouped chunk\n",
    "    df_total = df_total.append(dd, ignore_index=True)\n",
    "    # total drop duplicates\n",
    "    df_total = df_total.drop_duplicates(subset = columns)\n",
    "    print(len(df_total))\n",
    "    \n",
    "    if k == 10:\n",
    "        break"
   ]
  },
  {
   "cell_type": "markdown",
   "metadata": {},
   "source": [
    "We see that when 358,996 is reached, the number of unique rows is the same.\n",
    "\n",
    "Then we will assume that there is only 358,996 unique rows in the file."
   ]
  },
  {
   "cell_type": "code",
   "execution_count": 115,
   "metadata": {},
   "outputs": [],
   "source": [
    "df_total.to_csv('./searches_clear.csv.bz2', sep='^',\n",
    "                index = False, compression='bz2')"
   ]
  },
  {
   "cell_type": "code",
   "execution_count": 116,
   "metadata": {},
   "outputs": [],
   "source": [
    "path_searches_clear = '/home/dsc/DS_challenge/DS_challenge/searches_clear.csv.bz2'"
   ]
  },
  {
   "cell_type": "code",
   "execution_count": 117,
   "metadata": {},
   "outputs": [],
   "source": [
    "df = pd.read_csv(path_searches_clear, sep='^')"
   ]
  },
  {
   "cell_type": "code",
   "execution_count": 118,
   "metadata": {},
   "outputs": [
    {
     "data": {
      "text/html": [
       "<div>\n",
       "<style scoped>\n",
       "    .dataframe tbody tr th:only-of-type {\n",
       "        vertical-align: middle;\n",
       "    }\n",
       "\n",
       "    .dataframe tbody tr th {\n",
       "        vertical-align: top;\n",
       "    }\n",
       "\n",
       "    .dataframe thead th {\n",
       "        text-align: right;\n",
       "    }\n",
       "</style>\n",
       "<table border=\"1\" class=\"dataframe\">\n",
       "  <thead>\n",
       "    <tr style=\"text-align: right;\">\n",
       "      <th></th>\n",
       "      <th>Date</th>\n",
       "      <th>Time</th>\n",
       "      <th>Origin</th>\n",
       "      <th>Destination</th>\n",
       "    </tr>\n",
       "  </thead>\n",
       "  <tbody>\n",
       "    <tr>\n",
       "      <th>0</th>\n",
       "      <td>2013-01-01</td>\n",
       "      <td>20:25:57</td>\n",
       "      <td>TXL</td>\n",
       "      <td>AUH</td>\n",
       "    </tr>\n",
       "    <tr>\n",
       "      <th>1</th>\n",
       "      <td>2013-01-01</td>\n",
       "      <td>10:15:33</td>\n",
       "      <td>ATH</td>\n",
       "      <td>MIL</td>\n",
       "    </tr>\n",
       "    <tr>\n",
       "      <th>2</th>\n",
       "      <td>2013-01-01</td>\n",
       "      <td>18:04:49</td>\n",
       "      <td>ICT</td>\n",
       "      <td>SFO</td>\n",
       "    </tr>\n",
       "    <tr>\n",
       "      <th>3</th>\n",
       "      <td>2013-01-01</td>\n",
       "      <td>17:42:40</td>\n",
       "      <td>RNB</td>\n",
       "      <td>ARN</td>\n",
       "    </tr>\n",
       "    <tr>\n",
       "      <th>4</th>\n",
       "      <td>2013-01-01</td>\n",
       "      <td>17:48:29</td>\n",
       "      <td>OSL</td>\n",
       "      <td>MAD</td>\n",
       "    </tr>\n",
       "  </tbody>\n",
       "</table>\n",
       "</div>"
      ],
      "text/plain": [
       "         Date      Time Origin Destination\n",
       "0  2013-01-01  20:25:57    TXL         AUH\n",
       "1  2013-01-01  10:15:33    ATH         MIL\n",
       "2  2013-01-01  18:04:49    ICT         SFO\n",
       "3  2013-01-01  17:42:40    RNB         ARN\n",
       "4  2013-01-01  17:48:29    OSL         MAD"
      ]
     },
     "execution_count": 118,
     "metadata": {},
     "output_type": "execute_result"
    }
   ],
   "source": [
    "df.head()"
   ]
  },
  {
   "cell_type": "code",
   "execution_count": 119,
   "metadata": {},
   "outputs": [
    {
     "data": {
      "text/plain": [
       "(358996, 4)"
      ]
     },
     "execution_count": 119,
     "metadata": {},
     "output_type": "execute_result"
    }
   ],
   "source": [
    "df.shape"
   ]
  },
  {
   "cell_type": "markdown",
   "metadata": {},
   "source": [
    "We repeat the process for the Destinations we want"
   ]
  },
  {
   "cell_type": "markdown",
   "metadata": {},
   "source": [
    "Now we need to select and slice the date "
   ]
  },
  {
   "cell_type": "code",
   "execution_count": 120,
   "metadata": {},
   "outputs": [],
   "source": [
    "df['Date_YM'] = df['Date'].str[:7]"
   ]
  },
  {
   "cell_type": "code",
   "execution_count": 121,
   "metadata": {},
   "outputs": [
    {
     "data": {
      "text/html": [
       "<div>\n",
       "<style scoped>\n",
       "    .dataframe tbody tr th:only-of-type {\n",
       "        vertical-align: middle;\n",
       "    }\n",
       "\n",
       "    .dataframe tbody tr th {\n",
       "        vertical-align: top;\n",
       "    }\n",
       "\n",
       "    .dataframe thead th {\n",
       "        text-align: right;\n",
       "    }\n",
       "</style>\n",
       "<table border=\"1\" class=\"dataframe\">\n",
       "  <thead>\n",
       "    <tr style=\"text-align: right;\">\n",
       "      <th></th>\n",
       "      <th>Date</th>\n",
       "      <th>Time</th>\n",
       "      <th>Origin</th>\n",
       "      <th>Destination</th>\n",
       "      <th>Date_YM</th>\n",
       "    </tr>\n",
       "  </thead>\n",
       "  <tbody>\n",
       "    <tr>\n",
       "      <th>4</th>\n",
       "      <td>2013-01-01</td>\n",
       "      <td>17:48:29</td>\n",
       "      <td>OSL</td>\n",
       "      <td>MAD</td>\n",
       "      <td>2013-01</td>\n",
       "    </tr>\n",
       "    <tr>\n",
       "      <th>93</th>\n",
       "      <td>2013-01-01</td>\n",
       "      <td>20:15:57</td>\n",
       "      <td>FRA</td>\n",
       "      <td>AGP</td>\n",
       "      <td>2013-01</td>\n",
       "    </tr>\n",
       "    <tr>\n",
       "      <th>113</th>\n",
       "      <td>2013-01-01</td>\n",
       "      <td>23:40:53</td>\n",
       "      <td>ALC</td>\n",
       "      <td>BCN</td>\n",
       "      <td>2013-01</td>\n",
       "    </tr>\n",
       "    <tr>\n",
       "      <th>147</th>\n",
       "      <td>2013-01-01</td>\n",
       "      <td>15:35:53</td>\n",
       "      <td>HHN</td>\n",
       "      <td>AGP</td>\n",
       "      <td>2013-01</td>\n",
       "    </tr>\n",
       "    <tr>\n",
       "      <th>151</th>\n",
       "      <td>2013-01-01</td>\n",
       "      <td>10:46:21</td>\n",
       "      <td>FRA</td>\n",
       "      <td>MAD</td>\n",
       "      <td>2013-01</td>\n",
       "    </tr>\n",
       "    <tr>\n",
       "      <th>165</th>\n",
       "      <td>2013-01-01</td>\n",
       "      <td>03:40:25</td>\n",
       "      <td>SFO</td>\n",
       "      <td>BCN</td>\n",
       "      <td>2013-01</td>\n",
       "    </tr>\n",
       "    <tr>\n",
       "      <th>177</th>\n",
       "      <td>2013-01-01</td>\n",
       "      <td>11:26:34</td>\n",
       "      <td>MOW</td>\n",
       "      <td>BCN</td>\n",
       "      <td>2013-01</td>\n",
       "    </tr>\n",
       "    <tr>\n",
       "      <th>186</th>\n",
       "      <td>2013-01-01</td>\n",
       "      <td>09:46:07</td>\n",
       "      <td>CPH</td>\n",
       "      <td>BCN</td>\n",
       "      <td>2013-01</td>\n",
       "    </tr>\n",
       "    <tr>\n",
       "      <th>188</th>\n",
       "      <td>2013-01-01</td>\n",
       "      <td>02:07:17</td>\n",
       "      <td>NDR</td>\n",
       "      <td>BCN</td>\n",
       "      <td>2013-01</td>\n",
       "    </tr>\n",
       "    <tr>\n",
       "      <th>208</th>\n",
       "      <td>2013-01-01</td>\n",
       "      <td>15:58:35</td>\n",
       "      <td>CGN</td>\n",
       "      <td>BCN</td>\n",
       "      <td>2013-01</td>\n",
       "    </tr>\n",
       "  </tbody>\n",
       "</table>\n",
       "</div>"
      ],
      "text/plain": [
       "           Date      Time Origin Destination  Date_YM\n",
       "4    2013-01-01  17:48:29    OSL         MAD  2013-01\n",
       "93   2013-01-01  20:15:57    FRA         AGP  2013-01\n",
       "113  2013-01-01  23:40:53    ALC         BCN  2013-01\n",
       "147  2013-01-01  15:35:53    HHN         AGP  2013-01\n",
       "151  2013-01-01  10:46:21    FRA         MAD  2013-01\n",
       "165  2013-01-01  03:40:25    SFO         BCN  2013-01\n",
       "177  2013-01-01  11:26:34    MOW         BCN  2013-01\n",
       "186  2013-01-01  09:46:07    CPH         BCN  2013-01\n",
       "188  2013-01-01  02:07:17    NDR         BCN  2013-01\n",
       "208  2013-01-01  15:58:35    CGN         BCN  2013-01"
      ]
     },
     "execution_count": 121,
     "metadata": {},
     "output_type": "execute_result"
    }
   ],
   "source": [
    "#DataFrame with the columns Date and Destination containing MAD, BCN, AGP\n",
    "\n",
    "df_new = df[df['Destination'].isin(['MAD', 'BCN', 'AGP'])].copy()\n",
    "\n",
    "\n",
    "df_new.head(10)"
   ]
  },
  {
   "cell_type": "markdown",
   "metadata": {},
   "source": [
    "Group by Date and Destination"
   ]
  },
  {
   "cell_type": "code",
   "execution_count": 122,
   "metadata": {},
   "outputs": [
    {
     "data": {
      "text/html": [
       "<div>\n",
       "<style scoped>\n",
       "    .dataframe tbody tr th:only-of-type {\n",
       "        vertical-align: middle;\n",
       "    }\n",
       "\n",
       "    .dataframe tbody tr th {\n",
       "        vertical-align: top;\n",
       "    }\n",
       "\n",
       "    .dataframe thead th {\n",
       "        text-align: right;\n",
       "    }\n",
       "</style>\n",
       "<table border=\"1\" class=\"dataframe\">\n",
       "  <thead>\n",
       "    <tr style=\"text-align: right;\">\n",
       "      <th></th>\n",
       "      <th>Date_YM</th>\n",
       "      <th>Destination</th>\n",
       "      <th>flights</th>\n",
       "    </tr>\n",
       "  </thead>\n",
       "  <tbody>\n",
       "    <tr>\n",
       "      <th>0</th>\n",
       "      <td>2013-01</td>\n",
       "      <td>AGP</td>\n",
       "      <td>169</td>\n",
       "    </tr>\n",
       "    <tr>\n",
       "      <th>1</th>\n",
       "      <td>2013-01</td>\n",
       "      <td>BCN</td>\n",
       "      <td>517</td>\n",
       "    </tr>\n",
       "    <tr>\n",
       "      <th>2</th>\n",
       "      <td>2013-01</td>\n",
       "      <td>MAD</td>\n",
       "      <td>425</td>\n",
       "    </tr>\n",
       "    <tr>\n",
       "      <th>3</th>\n",
       "      <td>2013-02</td>\n",
       "      <td>AGP</td>\n",
       "      <td>147</td>\n",
       "    </tr>\n",
       "    <tr>\n",
       "      <th>4</th>\n",
       "      <td>2013-02</td>\n",
       "      <td>BCN</td>\n",
       "      <td>497</td>\n",
       "    </tr>\n",
       "    <tr>\n",
       "      <th>5</th>\n",
       "      <td>2013-02</td>\n",
       "      <td>MAD</td>\n",
       "      <td>400</td>\n",
       "    </tr>\n",
       "    <tr>\n",
       "      <th>6</th>\n",
       "      <td>2013-03</td>\n",
       "      <td>AGP</td>\n",
       "      <td>187</td>\n",
       "    </tr>\n",
       "    <tr>\n",
       "      <th>7</th>\n",
       "      <td>2013-03</td>\n",
       "      <td>BCN</td>\n",
       "      <td>536</td>\n",
       "    </tr>\n",
       "    <tr>\n",
       "      <th>8</th>\n",
       "      <td>2013-03</td>\n",
       "      <td>MAD</td>\n",
       "      <td>433</td>\n",
       "    </tr>\n",
       "    <tr>\n",
       "      <th>9</th>\n",
       "      <td>2013-04</td>\n",
       "      <td>AGP</td>\n",
       "      <td>145</td>\n",
       "    </tr>\n",
       "  </tbody>\n",
       "</table>\n",
       "</div>"
      ],
      "text/plain": [
       "   Date_YM Destination  flights\n",
       "0  2013-01         AGP      169\n",
       "1  2013-01         BCN      517\n",
       "2  2013-01         MAD      425\n",
       "3  2013-02         AGP      147\n",
       "4  2013-02         BCN      497\n",
       "5  2013-02         MAD      400\n",
       "6  2013-03         AGP      187\n",
       "7  2013-03         BCN      536\n",
       "8  2013-03         MAD      433\n",
       "9  2013-04         AGP      145"
      ]
     },
     "execution_count": 122,
     "metadata": {},
     "output_type": "execute_result"
    }
   ],
   "source": [
    "df_new = df_new.groupby(['Date_YM', 'Destination'])['Destination'].agg(['count']).reset_index()\n",
    "df_new.rename(columns = {'count': 'flights'}, inplace = True)\n",
    "df_new.head(10)"
   ]
  },
  {
   "cell_type": "code",
   "execution_count": 126,
   "metadata": {},
   "outputs": [
    {
     "data": {
      "image/png": "[encoded data removed]",
      "text/plain": [
       "<Figure size 720x360 with 1 Axes>"
      ]
     },
     "metadata": {
      "needs_background": "light"
     },
     "output_type": "display_data"
    }
   ],
   "source": [
    "fig, ax1 = plt.subplots(figsize=(10,5))\n",
    "sns.lineplot(data=df_new, x='Date_YM', y='flights', hue='Destination');"
   ]
  }
 ],
 "metadata": {
  "kernelspec": {
   "display_name": "Python 3",
   "language": "python",
   "name": "python3"
  },
  "language_info": {
   "codemirror_mode": {
    "name": "ipython",
    "version": 3
   },
   "file_extension": ".py",
   "mimetype": "text/x-python",
   "name": "python",
   "nbconvert_exporter": "python",
   "pygments_lexer": "ipython3",
   "version": "3.7.8"
  },
  "toc": {
   "base_numbering": 1,
   "nav_menu": {},
   "number_sections": true,
   "sideBar": true,
   "skip_h1_title": false,
   "title_cell": "Table of Contents",
   "title_sidebar": "Contents",
   "toc_cell": false,
   "toc_position": {},
   "toc_section_display": true,
   "toc_window_display": false
  }
 },
 "nbformat": 4,
 "nbformat_minor": 2
}
